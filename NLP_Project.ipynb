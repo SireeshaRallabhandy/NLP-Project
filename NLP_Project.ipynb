{
  "nbformat": 4,
  "nbformat_minor": 0,
  "metadata": {
    "colab": {
      "name": "NLP-Project",
      "provenance": [],
      "include_colab_link": true
    },
    "kernelspec": {
      "name": "python3",
      "display_name": "Python 3"
    },
    "language_info": {
      "name": "python"
    }
  },
  "cells": [
    {
      "cell_type": "markdown",
      "metadata": {
        "id": "view-in-github",
        "colab_type": "text"
      },
      "source": [
        "<a href=\"https://colab.research.google.com/github/Rohithkumargattu979/NLP-Project/blob/main/NLP_Project.ipynb\" target=\"_parent\"><img src=\"https://colab.research.google.com/assets/colab-badge.svg\" alt=\"Open In Colab\"/></a>"
      ]
    },
    {
      "cell_type": "code",
      "metadata": {
        "id": "P0A-USG2XVGP"
      },
      "source": [
        "import numpy as np\n",
        "import pandas as pd\n",
        "import tweepy as tp\n",
        "import wordcloud as wordcloud\n",
        "from textblob import TextBlob as tb\n"
      ],
      "execution_count": 1,
      "outputs": []
    }
  ]
}